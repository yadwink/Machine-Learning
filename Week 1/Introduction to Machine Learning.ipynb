{
 "cells": [
  {
   "cell_type": "markdown",
   "metadata": {},
   "source": [
    "# Introduction to Machine Learning (ML)"
   ]
  },
  {
   "cell_type": "markdown",
   "metadata": {},
   "source": [
    "source: https://github.com/alexeygrigorev/mlbookcamp-code/tree/master/course-zoomcamp/cohorts/2022"
   ]
  },
  {
   "cell_type": "markdown",
   "metadata": {},
   "source": [
    "Imagine a scenario where a customer wants to sell their car on a car classified website. This website requires to add description of your car type, model, mileage, and price etc. However, they can't decide on the price of the car. The reason being that the price should not be too low or high. Therefore, determining the optimal price of the car is challenging. One solution would be to predict the price manually, where the customer needs to do their own research on several similar car classified websites and spend time to search for similar cars and their prices. But the question is: How can we (as the owner of the car classified company) suggest prices to our customers? This can be achieved with the help of machine learning (ML).\n",
    "\n",
    "Before applying ML to predict the price of the car, we need to gather all the information provided by the user. For example, the following features/characteristics of the cars that are provided by the customers:\n",
    "\n",
    "1. Year: the manufature year of the car (i.e.,older the car, lower is the price)\n",
    "2. Price: estimated price of the car provided by the customers\n",
    "3. Make: manufacturer of the car i.e. BMW, VW\n",
    "4. Mileage: how many Kilometers, car has driven\n",
    "\n",
    "Thus, in ML world data is broadly of two types: features (all info about the data at hand), and target (this is what is going to be predicted). \n",
    "\n",
    "Generally, a human expert can determine the price of the car by using the above described information or features. The question is, how an expert decides on the price: they usually have gathered information from other dealerships, learnt about the general price of the cars based on their available features. Therefore, an expert has spent enough time to learn and extract some patterns about the price based on the their experience. \n",
    "\n",
    "If an expert can determine the price of the car so can a ML model! If a dataset is available to us with features and price, we can feed a ML model with datasets and the ML model will learn from the provided patterns. "
   ]
  },
  {
   "cell_type": "markdown",
   "metadata": {},
   "source": [
    "![](Data%20ML%20Patterns.png)"
   ]
  },
  {
   "cell_type": "markdown",
   "metadata": {},
   "source": [
    "![100x100,10%](Features%20and%20target.png)\n",
    "\n",
    " In the current car price prediction example, we will:\n",
    " * provide all the available information i.e., features and the target to the ML model and train it (An ML model encapsulate all the patterns that it learns from the data)\n",
    " \n",
    "![](Features%20and%20target%20fed%20to%20the%20ML%20model.png)\n",
    " \n",
    " * then we use the trained model and apply it to the features (EXCEPT THE target ) to make price prediction\n",
    " * the model will not provide the correct prediction but it will give an average \n",
    " \n",
    " ![](ML%20model%20making%20a%20prediction.png)\n",
    "\n",
    "Thus, ML is the process of extracting patterns from the data. We can summarize the ML process in the following two steps: \n",
    "\n",
    "* Step 1:\n",
    " Feed in the features/characteristics and the target data to the ML model which will output in a trained ML model\n",
    "\n",
    "* Step 2:\n",
    " apply the trained ML model to the features EXCEPT THE TARGET which will output in a predicted target feature (e.g., car price in this case)"
   ]
  },
  {
   "cell_type": "markdown",
   "metadata": {},
   "source": [
    "# Machine Learning (ML) vs Rule-based Systems\n",
    "\n",
    "* Imagine a scenario in which user complaints about getting many spam emails\n",
    "* As a data scientist, we would like to build a classifier. This classifier will classifies the incoming are spams or not\n",
    "* The goal of the classifier will be to detect a pattern and find out what features make an email a spam message\n",
    "* Old rule-based system will use few rules and write few lines of code based on them to return output if the email is good or spam:\n",
    "\n",
    "![](Rule%20based%20system.png)\n",
    "![](Rule%20based%20system%20code.png)\n"
   ]
  },
  {
   "cell_type": "markdown",
   "metadata": {},
   "source": [
    "* The problem with such system will start to appear when there are same keywords for spam and good emails. The spam constantly keep changing and it will end up in many lines of code which will be difficult to maintain\n",
    "* The solution is to use ML! We can first use all types of emails as our data. Then, define and calculate specific features of the emails to feed to the ML model for training. At the end we can use the trained ML model as a classifier to detect good vs spam emails. The features will be based on the old rule based system. Therefore, we can start with the rules and then use these rules as features\n",
    "![](Rules%20as%20features.png)\n"
   ]
  },
  {
   "cell_type": "markdown",
   "metadata": {},
   "source": [
    "* For example, in an email, we can use the features to identify true (1) or false (0) and feed the true and false features to the ML model\n",
    "* Based on the true/false predictions, we can decide if the prediction is >50% then it is spam and if it's < 50% then identify as a good email\n",
    "![](ML%20Classifier%20.png)\n"
   ]
  },
  {
   "cell_type": "markdown",
   "metadata": {},
   "source": [
    "To summarize, in a rule-based system we will write some code and provide data to the software and predictions will be the outcome (Data + code -> fed into the software -> Outcome (e.g., spam or good email)). However this system becomes difficult to maintain after a certain time.\n",
    "While ML based system outcome is the input to the ML model. We know if an email is spam and feed it to the ML system. Then output is the trained model which can be used in those cases when we do not know the outcome or to make the prediction if the email is spam or not (Data+ trained ML model -> predictions)."
   ]
  }
 ],
 "metadata": {
  "kernelspec": {
   "display_name": "Python 3.8.12 ('base')",
   "language": "python",
   "name": "python3"
  },
  "language_info": {
   "name": "python",
   "version": "3.8.12"
  },
  "orig_nbformat": 4,
  "vscode": {
   "interpreter": {
    "hash": "e63f477442765f459f3ece5effe81a432b0b92250ffe758e49b8703a2124ac41"
   }
  }
 },
 "nbformat": 4,
 "nbformat_minor": 2
}
