{
 "cells": [
  {
   "cell_type": "markdown",
   "id": "3d022826",
   "metadata": {},
   "source": [
    "# Introduction to NumPy"
   ]
  },
  {
   "cell_type": "code",
   "execution_count": 1,
   "id": "aa1d3968",
   "metadata": {},
   "outputs": [],
   "source": [
    "# import numpy\n",
    "import numpy as np"
   ]
  },
  {
   "cell_type": "markdown",
   "id": "ae16782e",
   "metadata": {},
   "source": []
  },
  {
   "cell_type": "code",
   "execution_count": 2,
   "id": "a57b0e6f",
   "metadata": {
    "scrolled": true
   },
   "outputs": [
    {
     "data": {
      "text/plain": [
       "<module 'numpy' from 'C:\\\\Users\\\\yadwi\\\\anaconda3\\\\lib\\\\site-packages\\\\numpy\\\\__init__.py'>"
      ]
     },
     "execution_count": 2,
     "metadata": {},
     "output_type": "execute_result"
    }
   ],
   "source": [
    "np"
   ]
  },
  {
   "cell_type": "markdown",
   "id": "1b25b3cd",
   "metadata": {},
   "source": [
    "## Creating arrays "
   ]
  },
  {
   "cell_type": "code",
   "execution_count": 4,
   "id": "843fa1e5",
   "metadata": {},
   "outputs": [
    {
     "data": {
      "text/plain": [
       "array([0., 0., 0., 0., 0., 0., 0., 0., 0., 0.])"
      ]
     },
     "execution_count": 4,
     "metadata": {},
     "output_type": "execute_result"
    }
   ],
   "source": [
    "# creating arrays of zeros of size 10\n",
    "np.zeros(10)"
   ]
  },
  {
   "cell_type": "code",
   "execution_count": 5,
   "id": "a8c19347",
   "metadata": {},
   "outputs": [
    {
     "data": {
      "text/plain": [
       "array([1., 1., 1., 1., 1., 1., 1., 1., 1., 1.])"
      ]
     },
     "execution_count": 5,
     "metadata": {},
     "output_type": "execute_result"
    }
   ],
   "source": [
    "# creating arrays of ones of size 10\n",
    "np.ones(10)"
   ]
  },
  {
   "cell_type": "code",
   "execution_count": 6,
   "id": "70a0f3cc",
   "metadata": {},
   "outputs": [
    {
     "data": {
      "text/plain": [
       "array([2.5, 2.5, 2.5, 2.5, 2.5, 2.5, 2.5, 2.5, 2.5, 2.5])"
      ]
     },
     "execution_count": 6,
     "metadata": {},
     "output_type": "execute_result"
    }
   ],
   "source": [
    "# creating an array of an arbitrary number e.g., 2.5 of size 10 using the function full\n",
    "np.full(10,2.5)"
   ]
  },
  {
   "cell_type": "code",
   "execution_count": 8,
   "id": "b2375f9c",
   "metadata": {},
   "outputs": [
    {
     "data": {
      "text/plain": [
       "array([1, 2, 3, 4, 5, 6, 7])"
      ]
     },
     "execution_count": 8,
     "metadata": {},
     "output_type": "execute_result"
    }
   ],
   "source": [
    "# convert a python list of [1,2,3,4,5,6,7] to array using function np.array\n",
    "a = np.array([1,2,3,4,5,6,7])\n",
    "a"
   ]
  },
  {
   "cell_type": "code",
   "execution_count": 9,
   "id": "53b26ed9",
   "metadata": {},
   "outputs": [
    {
     "data": {
      "text/plain": [
       "3"
      ]
     },
     "execution_count": 9,
     "metadata": {},
     "output_type": "execute_result"
    }
   ],
   "source": [
    "# to access an element of an array simply refer to its index. \n",
    "# Index starts from 0 in python, therefore to access the third element of array a use:\n",
    "a[2]"
   ]
  },
  {
   "cell_type": "code",
   "execution_count": 11,
   "id": "6e305308",
   "metadata": {},
   "outputs": [
    {
     "data": {
      "text/plain": [
       "array([ 1,  2, 10,  4,  5,  6,  7])"
      ]
     },
     "execution_count": 11,
     "metadata": {},
     "output_type": "execute_result"
    }
   ],
   "source": [
    "# to replace an element from an array, use the assignment operator\n",
    "a[2] = 10\n",
    "a"
   ]
  },
  {
   "cell_type": "code",
   "execution_count": 12,
   "id": "2be86021",
   "metadata": {},
   "outputs": [
    {
     "data": {
      "text/plain": [
       "array([3, 4, 5, 6, 7, 8, 9])"
      ]
     },
     "execution_count": 12,
     "metadata": {},
     "output_type": "execute_result"
    }
   ],
   "source": [
    "# to create a range of array\n",
    "np.arange(3,10)"
   ]
  },
  {
   "cell_type": "code",
   "execution_count": 14,
   "id": "81b0b24e",
   "metadata": {},
   "outputs": [
    {
     "data": {
      "text/plain": [
       "array([  0.,  10.,  20.,  30.,  40.,  50.,  60.,  70.,  80.,  90., 100.])"
      ]
     },
     "execution_count": 14,
     "metadata": {},
     "output_type": "execute_result"
    }
   ],
   "source": [
    "# an important function is linspace. It creates numbers from a start and end specified number\n",
    "# this command creates an array starting from 0 to 100 of size 11\n",
    "np.linspace(0,100,11)"
   ]
  },
  {
   "cell_type": "markdown",
   "id": "4e194d9c",
   "metadata": {},
   "source": [
    "## Multi-dimensional arrays"
   ]
  },
  {
   "cell_type": "code",
   "execution_count": 16,
   "id": "639eefe2",
   "metadata": {},
   "outputs": [
    {
     "data": {
      "text/plain": [
       "array([[0., 0.],\n",
       "       [0., 0.],\n",
       "       [0., 0.],\n",
       "       [0., 0.],\n",
       "       [0., 0.]])"
      ]
     },
     "execution_count": 16,
     "metadata": {},
     "output_type": "execute_result"
    }
   ],
   "source": [
    "# to create a multi-dimensional array, use the same function but specify the dimension of the array\n",
    "# this will create an array of five rows and two columns\n",
    "np.zeros((5,2))"
   ]
  },
  {
   "cell_type": "code",
   "execution_count": 19,
   "id": "4207d46a",
   "metadata": {},
   "outputs": [],
   "source": [
    "# create an array from a Python list of list\n",
    "# this will create a 2-D array\n",
    "n = np.array([\n",
    "    [1,2,3],\n",
    "    [4,5,6],\n",
    "    [7,8,9]\n",
    "])"
   ]
  },
  {
   "cell_type": "code",
   "execution_count": 20,
   "id": "506c2adf",
   "metadata": {},
   "outputs": [
    {
     "data": {
      "text/plain": [
       "2"
      ]
     },
     "execution_count": 20,
     "metadata": {},
     "output_type": "execute_result"
    }
   ],
   "source": [
    "# to access a number from a 2-D array, proivde the row and column number\n",
    "n[0,1]"
   ]
  },
  {
   "cell_type": "code",
   "execution_count": 21,
   "id": "59de1717",
   "metadata": {},
   "outputs": [],
   "source": [
    "# to change the element of the array use the assignment operator\n",
    "n[0,1]=20"
   ]
  },
  {
   "cell_type": "code",
   "execution_count": 22,
   "id": "150dd31a",
   "metadata": {},
   "outputs": [
    {
     "data": {
      "text/plain": [
       "array([ 1, 20,  3])"
      ]
     },
     "execution_count": 22,
     "metadata": {},
     "output_type": "execute_result"
    }
   ],
   "source": [
    "# to access the entire row, instead of passing two indices, just specify the row number\n",
    "n[0]"
   ]
  },
  {
   "cell_type": "code",
   "execution_count": 23,
   "id": "ad772853",
   "metadata": {},
   "outputs": [
    {
     "data": {
      "text/plain": [
       "array([[ 1, 20,  3],\n",
       "       [ 4,  5,  6],\n",
       "       [ 1,  1,  1]])"
      ]
     },
     "execution_count": 23,
     "metadata": {},
     "output_type": "execute_result"
    }
   ],
   "source": [
    "# to change the elements from the last row, just pass the desired list\n",
    "n[2]=[1,1,1]\n",
    "n"
   ]
  },
  {
   "cell_type": "code",
   "execution_count": 25,
   "id": "daa912b7",
   "metadata": {},
   "outputs": [
    {
     "data": {
      "text/plain": [
       "array([20,  5,  1])"
      ]
     },
     "execution_count": 25,
     "metadata": {},
     "output_type": "execute_result"
    }
   ],
   "source": [
    "# to access a column, use the colon operator for the rows\n",
    "# colon operator means to return all the rows\n",
    "n[:,1]"
   ]
  },
  {
   "cell_type": "code",
   "execution_count": 26,
   "id": "0bc97aa6",
   "metadata": {},
   "outputs": [
    {
     "data": {
      "text/plain": [
       "array([3, 6, 1])"
      ]
     },
     "execution_count": 26,
     "metadata": {},
     "output_type": "execute_result"
    }
   ],
   "source": [
    "# to aceess the last column\n",
    "n[:,2]"
   ]
  },
  {
   "cell_type": "code",
   "execution_count": 28,
   "id": "225b340e",
   "metadata": {},
   "outputs": [
    {
     "data": {
      "text/plain": [
       "array([[ 1, 20,  0],\n",
       "       [ 4,  5,  1],\n",
       "       [ 1,  1,  2]])"
      ]
     },
     "execution_count": 28,
     "metadata": {},
     "output_type": "execute_result"
    }
   ],
   "source": [
    "# or assign the last column to something else\n",
    "n[:,2]= [0,1,2]\n",
    "n"
   ]
  },
  {
   "cell_type": "markdown",
   "id": "ee97d67e",
   "metadata": {},
   "source": [
    "## Randomly generated arrays"
   ]
  },
  {
   "cell_type": "code",
   "execution_count": 29,
   "id": "c1bcf3a0",
   "metadata": {},
   "outputs": [
    {
     "data": {
      "text/plain": [
       "array([[0.66068113, 0.49548798],\n",
       "       [0.35025557, 0.60116513],\n",
       "       [0.44408992, 0.21143608],\n",
       "       [0.60721556, 0.26887905],\n",
       "       [0.77985323, 0.6200283 ]])"
      ]
     },
     "execution_count": 29,
     "metadata": {},
     "output_type": "execute_result"
    }
   ],
   "source": [
    "# to generate a random array, use np.random.rand function with number of rows and columns\n",
    "np.random.rand(5,2)"
   ]
  },
  {
   "cell_type": "code",
   "execution_count": 44,
   "id": "5b432a23",
   "metadata": {},
   "outputs": [
    {
     "data": {
      "text/plain": [
       "array([[0.29965467, 0.26682728],\n",
       "       [0.62113383, 0.52914209]])"
      ]
     },
     "execution_count": 44,
     "metadata": {},
     "output_type": "execute_result"
    }
   ],
   "source": [
    "# the numbers generated using the np.random.rand are pseudo random,\n",
    "# therefore everytime when we execute the random.rand command, we will get new set of numbers\n",
    "np.random.rand(2,2)"
   ]
  },
  {
   "cell_type": "code",
   "execution_count": 47,
   "id": "b5aa289c",
   "metadata": {},
   "outputs": [
    {
     "data": {
      "text/plain": [
       "array([[-0.41675785, -0.05626683],\n",
       "       [-2.1361961 ,  1.64027081]])"
      ]
     },
     "execution_count": 47,
     "metadata": {},
     "output_type": "execute_result"
    }
   ],
   "source": [
    "# however to fix these number for reproducibility we can set the seed of this random generator\n",
    "np.random.seed(2)\n",
    "np.random.randn(2,2)"
   ]
  },
  {
   "cell_type": "code",
   "execution_count": 46,
   "id": "6a518605",
   "metadata": {},
   "outputs": [
    {
     "data": {
      "text/plain": [
       "array([[42.03678021, 33.0334821 ],\n",
       "       [20.4648634 , 61.92709664]])"
      ]
     },
     "execution_count": 46,
     "metadata": {},
     "output_type": "execute_result"
    }
   ],
   "source": [
    "# to get numbers between 0 & 100, just multiply the array with number 100\n",
    "100*np.random.rand(2,2)"
   ]
  },
  {
   "cell_type": "code",
   "execution_count": 50,
   "id": "cb48af5b",
   "metadata": {},
   "outputs": [
    {
     "data": {
      "text/plain": [
       "array([[40, 15],\n",
       "       [72, 22],\n",
       "       [43, 82],\n",
       "       [75,  7],\n",
       "       [34, 49]])"
      ]
     },
     "execution_count": 50,
     "metadata": {},
     "output_type": "execute_result"
    }
   ],
   "source": [
    "# to generate random integers, use function randint by specifying lowest and highest numbers\n",
    "np.random.seed(2)\n",
    "np.random.randint(low=0, high=100, size=(5,2))"
   ]
  },
  {
   "cell_type": "markdown",
   "id": "80889ba9",
   "metadata": {},
   "source": [
    "## Element-wise operations"
   ]
  },
  {
   "cell_type": "code",
   "execution_count": 53,
   "id": "deff6869",
   "metadata": {},
   "outputs": [
    {
     "data": {
      "text/plain": [
       "array([0, 1, 2, 3, 4])"
      ]
     },
     "execution_count": 53,
     "metadata": {},
     "output_type": "execute_result"
    }
   ],
   "source": [
    "# let's create a range of array of size 5 \n",
    "a=np.arange(5)\n",
    "a"
   ]
  },
  {
   "cell_type": "code",
   "execution_count": 54,
   "id": "7cf10762",
   "metadata": {},
   "outputs": [
    {
     "data": {
      "text/plain": [
       "array([1, 2, 3, 4, 5])"
      ]
     },
     "execution_count": 54,
     "metadata": {},
     "output_type": "execute_result"
    }
   ],
   "source": [
    "# now add one to each of it's element\n",
    "a + 1"
   ]
  },
  {
   "cell_type": "code",
   "execution_count": 55,
   "id": "e3cfb130",
   "metadata": {},
   "outputs": [
    {
     "data": {
      "text/plain": [
       "array([0, 2, 4, 6, 8])"
      ]
     },
     "execution_count": 55,
     "metadata": {},
     "output_type": "execute_result"
    }
   ],
   "source": [
    "# or multiply each element with 2\n",
    "\n",
    "a *2 "
   ]
  },
  {
   "cell_type": "code",
   "execution_count": 57,
   "id": "47f2007e",
   "metadata": {},
   "outputs": [],
   "source": [
    "# more operations\n",
    "b = (10 + (a*2)) **2"
   ]
  },
  {
   "cell_type": "code",
   "execution_count": 58,
   "id": "f6749337",
   "metadata": {},
   "outputs": [
    {
     "data": {
      "text/plain": [
       "array([100, 145, 198, 259, 328])"
      ]
     },
     "execution_count": 58,
     "metadata": {},
     "output_type": "execute_result"
    }
   ],
   "source": [
    "# element wise sum of two arrays\n",
    "\n",
    "a + b"
   ]
  },
  {
   "cell_type": "code",
   "execution_count": 59,
   "id": "2a13bf5e",
   "metadata": {},
   "outputs": [
    {
     "data": {
      "text/plain": [
       "array([10.        , 10.00694444, 10.01020408, 10.01171875, 10.01234568])"
      ]
     },
     "execution_count": 59,
     "metadata": {},
     "output_type": "execute_result"
    }
   ],
   "source": [
    "a/b+10"
   ]
  },
  {
   "cell_type": "markdown",
   "id": "36b8b4f6",
   "metadata": {},
   "source": [
    "## Comparison operations"
   ]
  },
  {
   "cell_type": "code",
   "execution_count": 61,
   "id": "c69cd151",
   "metadata": {},
   "outputs": [
    {
     "data": {
      "text/plain": [
       "array([False, False,  True,  True,  True])"
      ]
     },
     "execution_count": 61,
     "metadata": {},
     "output_type": "execute_result"
    }
   ],
   "source": [
    "# element-wise comparisons\n",
    "a >= 2"
   ]
  },
  {
   "cell_type": "code",
   "execution_count": 62,
   "id": "638ba647",
   "metadata": {},
   "outputs": [
    {
     "data": {
      "text/plain": [
       "array([False, False, False, False, False])"
      ]
     },
     "execution_count": 62,
     "metadata": {},
     "output_type": "execute_result"
    }
   ],
   "source": [
    "# to check which elements of array a are larger than elements of array b\n",
    "a > b"
   ]
  },
  {
   "cell_type": "code",
   "execution_count": 65,
   "id": "b5f9e325",
   "metadata": {},
   "outputs": [
    {
     "data": {
      "text/plain": [
       "array([0, 1, 2, 3, 4])"
      ]
     },
     "execution_count": 65,
     "metadata": {},
     "output_type": "execute_result"
    }
   ],
   "source": [
    "# to check which elements of a are less than elements of b\n",
    "a[a<b]"
   ]
  },
  {
   "cell_type": "code",
   "execution_count": 67,
   "id": "82c955f7",
   "metadata": {},
   "outputs": [
    {
     "data": {
      "text/plain": [
       "0"
      ]
     },
     "execution_count": 67,
     "metadata": {},
     "output_type": "execute_result"
    }
   ],
   "source": [
    "# to get the minimum and maximum numbers from an array\n",
    "a.min()"
   ]
  },
  {
   "cell_type": "code",
   "execution_count": 68,
   "id": "43ac8350",
   "metadata": {},
   "outputs": [
    {
     "data": {
      "text/plain": [
       "4"
      ]
     },
     "execution_count": 68,
     "metadata": {},
     "output_type": "execute_result"
    }
   ],
   "source": [
    "a.max()"
   ]
  },
  {
   "cell_type": "code",
   "execution_count": 69,
   "id": "3ed4d01d",
   "metadata": {},
   "outputs": [
    {
     "data": {
      "text/plain": [
       "10"
      ]
     },
     "execution_count": 69,
     "metadata": {},
     "output_type": "execute_result"
    }
   ],
   "source": [
    "# compute sum of all elements of arrays\n",
    "a.sum()"
   ]
  },
  {
   "cell_type": "code",
   "execution_count": 70,
   "id": "6ffbfd0f",
   "metadata": {},
   "outputs": [
    {
     "data": {
      "text/plain": [
       "1.4142135623730951"
      ]
     },
     "execution_count": 70,
     "metadata": {},
     "output_type": "execute_result"
    }
   ],
   "source": [
    "# to calculate std. deviation\n",
    "a.std()"
   ]
  },
  {
   "cell_type": "code",
   "execution_count": null,
   "id": "4f25e45d",
   "metadata": {},
   "outputs": [],
   "source": []
  }
 ],
 "metadata": {
  "kernelspec": {
   "display_name": "Python 3 (ipykernel)",
   "language": "python",
   "name": "python3"
  },
  "language_info": {
   "codemirror_mode": {
    "name": "ipython",
    "version": 3
   },
   "file_extension": ".py",
   "mimetype": "text/x-python",
   "name": "python",
   "nbconvert_exporter": "python",
   "pygments_lexer": "ipython3",
   "version": "3.8.12"
  }
 },
 "nbformat": 4,
 "nbformat_minor": 5
}
